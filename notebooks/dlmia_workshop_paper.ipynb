{
 "cells": [
  {
   "cell_type": "code",
   "execution_count": 1,
   "metadata": {},
   "outputs": [
    {
     "name": "stdout",
     "output_type": "stream",
     "text": [
      "Done\n"
     ]
    }
   ],
   "source": [
    "%load_ext autoreload\n",
    "%autoreload 2\n",
    "%matplotlib inline\n",
    "from __future__ import print_function\n",
    "from scipy.misc import imread\n",
    "import matplotlib.pyplot as plt\n",
    "import numpy as np\n",
    "import sys\n",
    "\n",
    "sys.path.append('..')\n",
    "from deepcalcium.datasets.nf import nf_load_hdf5\n",
    "from deepcalcium.utils.visuals import mask_outlines\n",
    "print('Done')"
   ]
  },
  {
   "cell_type": "code",
   "execution_count": 4,
   "metadata": {},
   "outputs": [
    {
     "name": "stdout",
     "output_type": "stream",
     "text": [
      "Training: 66017 frames, 6974 neurons.\n"
     ]
    }
   ],
   "source": [
    "# How many frames, neurons in the neurofinder dataset.\n",
    "S, M = nf_load_hdf5('all_train')\n",
    "nb_frames = sum([s.get('s').shape[0] for s in S])\n",
    "nb_neurons = sum([m.get('m').shape[0] for m in M])\n",
    "print('Training: %d frames, %d neurons.' % (nb_frames, nb_neurons))\n",
    "for s, m in zip(S, M):\n",
    "    s.close(); m.close()"
   ]
  },
  {
   "cell_type": "code",
   "execution_count": 3,
   "metadata": {},
   "outputs": [
    {
     "name": "stdout",
     "output_type": "stream",
     "text": [
      "neurofinder.00.00 0.0851936340332\n",
      "neurofinder.00.01 0.0831298828125\n",
      "neurofinder.00.02 0.0911674499512\n",
      "neurofinder.00.03 0.0880432128906\n",
      "neurofinder.00.04 0.113830566406\n",
      "neurofinder.00.05 0.124702453613\n",
      "neurofinder.00.06 0.109355926514\n",
      "neurofinder.00.07 0.0940322875977\n",
      "neurofinder.00.08 0.119537353516\n",
      "neurofinder.00.09 0.120193481445\n",
      "neurofinder.00.10 0.107780456543\n",
      "neurofinder.00.11 0.0894889831543\n",
      "neurofinder.01.00 0.261455535889\n",
      "neurofinder.01.01 0.237033843994\n",
      "neurofinder.02.00 0.0690879821777\n",
      "neurofinder.02.01 0.0570983886719\n",
      "neurofinder.03.00 0.331231046636\n",
      "neurofinder.04.00 0.0646018981934\n",
      "neurofinder.04.01 0.146629333496\n",
      "Mean positive 0.125978616712\n"
     ]
    }
   ],
   "source": [
    "# Quantify class-imbalance in neurofinder training datasets.\n",
    "S, M = nf_load_hdf5('all_train')\n",
    "mean_pos = 0.\n",
    "for s, m in zip(S, M):\n",
    "    max_summ = np.max(m.get('m'), axis=0)\n",
    "    pos_prop = (np.sum(max_summ) * 1. / max_summ.size)\n",
    "    print(s.attrs['name'], pos_prop)\n",
    "    mean_pos += pos_prop / len(S)\n",
    "    s.close(); m.close()\n",
    "print('Mean positive', mean_pos)"
   ]
  },
  {
   "cell_type": "code",
   "execution_count": 3,
   "metadata": {
    "collapsed": true
   },
   "outputs": [],
   "source": [
    "# Figure: mean projections with outlined neurons."
   ]
  },
  {
   "cell_type": "code",
   "execution_count": 14,
   "metadata": {},
   "outputs": [
    {
     "name": "stderr",
     "output_type": "stream",
     "text": [
      "100%|██████████| 1/1 [00:00<00:00, 1237.62it/s]\n"
     ]
    },
    {
     "data": {
      "image/png": "[encoded data removed]",
      "text/plain": [
       "<matplotlib.figure.Figure at 0x7f787c0264d0>"
      ]
     },
     "metadata": {},
     "output_type": "display_data"
    },
    {
     "name": "stdout",
     "output_type": "stream",
     "text": [
      "No. frames =  3000\n",
      "Seconds elapsed =  108.468763828\n"
     ]
    }
   ],
   "source": [
    "# How fast are predictions? Delete the hdf5 dataset before making predictions.\n",
    "# 3000 frames in ~110 seconds -> ~1600 frames / minute.\n",
    "from time import time\n",
    "from os import remove, environ\n",
    "environ['CUDA_VISIBLE_DEVICES'] = \"2\"\n",
    "from deepcalcium.models.neurons.unet_2d_summary import UNet2DSummary\n",
    "\n",
    "tic = time()\n",
    "remove('/home/kzh/.deep-calcium-datasets/neurofinder.00.00.test/sequence.hdf5')\n",
    "S, _ = nf_load_hdf5('neurofinder.00.00.test')\n",
    "model = UNet2DSummary(cpdir='/home/kzh/tmp/')\n",
    "wpath = '../checkpoints/unet_2d_summary_96x96_nf_0.5089/weights_val_dice_squared.hdf5'\n",
    "Mp = model.predict(S, weights_path=wpath, save=True)\n",
    "plt.imshow(imread('/home/kzh/tmp/neurofinder.00.00.test_mp.png'), cmap='gray')\n",
    "plt.show()\n",
    "print('No. frames = ', S[0].get('s').shape[0])\n",
    "print('Seconds elapsed = ', time() - tic)"
   ]
  },
  {
   "cell_type": "code",
   "execution_count": 13,
   "metadata": {},
   "outputs": [
    {
     "data": {
      "image/png": "[encoded data removed]",
      "text/plain": [
       "<matplotlib.figure.Figure at 0x7f78478eee50>"
      ]
     },
     "metadata": {},
     "output_type": "display_data"
    }
   ],
   "source": []
  }
 ],
 "metadata": {
  "kernelspec": {
   "display_name": "Python 2",
   "language": "python",
   "name": "python2"
  },
  "language_info": {
   "codemirror_mode": {
    "name": "ipython",
    "version": 2
   },
   "file_extension": ".py",
   "mimetype": "text/x-python",
   "name": "python",
   "nbconvert_exporter": "python",
   "pygments_lexer": "ipython2",
   "version": "2.7.6"
  }
 },
 "nbformat": 4,
 "nbformat_minor": 2
}
