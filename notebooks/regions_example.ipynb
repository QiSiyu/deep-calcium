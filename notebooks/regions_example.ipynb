{
 "cells": [
  {
   "cell_type": "code",
   "execution_count": 13,
   "metadata": {
    "collapsed": false
   },
   "outputs": [
    {
     "name": "stdout",
     "output_type": "stream",
     "text": [
      "Done\n"
     ]
    }
   ],
   "source": [
    "%matplotlib inline\n",
    "import matplotlib.pyplot as plt\n",
    "import json\n",
    "import neurofinder\n",
    "import numpy as np\n",
    "from regional import many\n",
    "from skimage import measure\n",
    "\n",
    "def mask_to_regional(m):\n",
    "    '''Convert a mask to a regional many object so it can be measured\n",
    "    using the neurofinder library.'''\n",
    "    mlbl = measure.label(m)\n",
    "    coords = []\n",
    "    for lbl in range(1, np.max(mlbl) + 1):\n",
    "        yy, xx = np.where(mlbl == lbl)\n",
    "        coords.append([[y, x] for y, x in zip(yy, xx)])\n",
    "    return many(coords)\n",
    "\n",
    "m2r = mask_to_regional\n",
    "\n",
    "print('Done')"
   ]
  },
  {
   "cell_type": "code",
   "execution_count": 39,
   "metadata": {
    "collapsed": false
   },
   "outputs": [
    {
     "name": "stdout",
     "output_type": "stream",
     "text": [
      "[0, nan]\n",
      "p=1.00, r=0.50\n"
     ]
    },
    {
     "data": {
      "image/png": "[encoded data removed]",
      "text/plain": [
       "<matplotlib.figure.Figure at 0x7ffb5a2eb8d0>"
      ]
     },
     "metadata": {},
     "output_type": "display_data"
    }
   ],
   "source": [
    "a = np.zeros((100,100))\n",
    "a[10:20,10:20] = 1.\n",
    "a[25:35,25:35] = 1.\n",
    "\n",
    "b = np.zeros((100,100))\n",
    "b[50:60,50:60] = 1.\n",
    "# Swap out the following two lines.\n",
    "b[59:70,59:70] = 1. # Slight overlap with other box. -> p=1.0, r=0.5\n",
    "# b[61:70,61:70] = 1.   # No overlap with other box -> p=1.0, r=1.0\n",
    "\n",
    "print(neurofinder.match(m2r(a), m2r(b)))\n",
    "r, p = neurofinder.centers(m2r(a), m2r(b)) \n",
    "print('p=%.2lf, r=%.2lf' % (p, r))\n",
    "\n",
    "fig,_ = plt.subplots(1,2)\n",
    "fig.axes[0].imshow(a)\n",
    "fig.axes[1].imshow(b)\n",
    "plt.show()"
   ]
  },
  {
   "cell_type": "code",
   "execution_count": null,
   "metadata": {
    "collapsed": true
   },
   "outputs": [],
   "source": []
  }
 ],
 "metadata": {
  "kernelspec": {
   "display_name": "Python 2",
   "language": "python",
   "name": "python2"
  },
  "language_info": {
   "codemirror_mode": {
    "name": "ipython",
    "version": 2
   },
   "file_extension": ".py",
   "mimetype": "text/x-python",
   "name": "python",
   "nbconvert_exporter": "python",
   "pygments_lexer": "ipython2",
   "version": "2.7.6"
  }
 },
 "nbformat": 4,
 "nbformat_minor": 2
}
